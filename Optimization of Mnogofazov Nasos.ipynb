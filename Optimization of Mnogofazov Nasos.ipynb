{
 "cells": [
  {
   "cell_type": "code",
   "execution_count": 1,
   "metadata": {
    "collapsed": false
   },
   "outputs": [
    {
     "name": "stdout",
     "output_type": "stream",
     "text": [
      "['Источник данных']\n"
     ]
    }
   ],
   "source": [
    "# Import pandas\n",
    "import pandas as pd\n",
    "\n",
    "# Assign spreadsheet filename to `file`\n",
    "file = 'Источник данных.xlsx'\n",
    "\n",
    "# Load spreadsheet\n",
    "xl = pd.ExcelFile(file)\n",
    "\n",
    "# Print the sheet names\n",
    "print(xl.sheet_names)\n",
    "\n",
    "# Load a sheet into a DataFrame by name: df1\n",
    "df1 = xl.parse('Источник данных')"
   ]
  },
  {
   "cell_type": "code",
   "execution_count": 2,
   "metadata": {
    "collapsed": false
   },
   "outputs": [
    {
     "data": {
      "text/html": [
       "<div>\n",
       "<table border=\"1\" class=\"dataframe\">\n",
       "  <thead>\n",
       "    <tr style=\"text-align: right;\">\n",
       "      <th></th>\n",
       "      <th>Количество ступеней в насосе</th>\n",
       "      <th>Давление (абсолютное) на Выходе насоса</th>\n",
       "      <th>Давление (абсолютное) на ВХоде насоса</th>\n",
       "      <th>Газосодержание на ВХоде в насос</th>\n",
       "      <th>Расход жидкости (объемный)</th>\n",
       "      <th>Плотность жидкости</th>\n",
       "      <th>Плотность газа (при нормальных условиях)</th>\n",
       "      <th>Подача (ступень-А1)</th>\n",
       "      <th>Напор (ступень-А1)</th>\n",
       "      <th>Частота вращения ротора (ступень-А1)</th>\n",
       "      <th>Диаметр ротора (ступень-А1)</th>\n",
       "      <th>Частота вращения ротора (ступень-А2)</th>\n",
       "      <th>Диаметр ротора (ступень-А2)</th>\n",
       "    </tr>\n",
       "  </thead>\n",
       "  <tbody>\n",
       "    <tr>\n",
       "      <th>0</th>\n",
       "      <td>200</td>\n",
       "      <td>12500000</td>\n",
       "      <td>3000000</td>\n",
       "      <td>0.25</td>\n",
       "      <td>0.000926</td>\n",
       "      <td>1000</td>\n",
       "      <td>1.2</td>\n",
       "      <td>193.1</td>\n",
       "      <td>9</td>\n",
       "      <td>3000</td>\n",
       "      <td>0.06</td>\n",
       "      <td>3000</td>\n",
       "      <td>0.06</td>\n",
       "    </tr>\n",
       "    <tr>\n",
       "      <th>1</th>\n",
       "      <td>200</td>\n",
       "      <td>12500000</td>\n",
       "      <td>3000000</td>\n",
       "      <td>0.25</td>\n",
       "      <td>0.000926</td>\n",
       "      <td>1000</td>\n",
       "      <td>1.2</td>\n",
       "      <td>193.1</td>\n",
       "      <td>9</td>\n",
       "      <td>3000</td>\n",
       "      <td>0.06</td>\n",
       "      <td>3000</td>\n",
       "      <td>0.06</td>\n",
       "    </tr>\n",
       "    <tr>\n",
       "      <th>2</th>\n",
       "      <td>200</td>\n",
       "      <td>12500000</td>\n",
       "      <td>3000000</td>\n",
       "      <td>0.25</td>\n",
       "      <td>0.000926</td>\n",
       "      <td>1000</td>\n",
       "      <td>1.2</td>\n",
       "      <td>193.1</td>\n",
       "      <td>9</td>\n",
       "      <td>3000</td>\n",
       "      <td>0.06</td>\n",
       "      <td>3000</td>\n",
       "      <td>0.06</td>\n",
       "    </tr>\n",
       "    <tr>\n",
       "      <th>3</th>\n",
       "      <td>200</td>\n",
       "      <td>12500000</td>\n",
       "      <td>3000000</td>\n",
       "      <td>0.25</td>\n",
       "      <td>0.000926</td>\n",
       "      <td>1000</td>\n",
       "      <td>1.2</td>\n",
       "      <td>193.1</td>\n",
       "      <td>9</td>\n",
       "      <td>3000</td>\n",
       "      <td>0.06</td>\n",
       "      <td>3000</td>\n",
       "      <td>0.06</td>\n",
       "    </tr>\n",
       "    <tr>\n",
       "      <th>4</th>\n",
       "      <td>200</td>\n",
       "      <td>12500000</td>\n",
       "      <td>3000000</td>\n",
       "      <td>0.25</td>\n",
       "      <td>0.000926</td>\n",
       "      <td>1000</td>\n",
       "      <td>1.2</td>\n",
       "      <td>193.1</td>\n",
       "      <td>9</td>\n",
       "      <td>3000</td>\n",
       "      <td>0.06</td>\n",
       "      <td>3000</td>\n",
       "      <td>0.06</td>\n",
       "    </tr>\n",
       "    <tr>\n",
       "      <th>5</th>\n",
       "      <td>200</td>\n",
       "      <td>12500000</td>\n",
       "      <td>3000000</td>\n",
       "      <td>0.25</td>\n",
       "      <td>0.000926</td>\n",
       "      <td>1000</td>\n",
       "      <td>1.2</td>\n",
       "      <td>193.1</td>\n",
       "      <td>9</td>\n",
       "      <td>3000</td>\n",
       "      <td>0.06</td>\n",
       "      <td>3000</td>\n",
       "      <td>0.06</td>\n",
       "    </tr>\n",
       "    <tr>\n",
       "      <th>6</th>\n",
       "      <td>200</td>\n",
       "      <td>12500000</td>\n",
       "      <td>3000000</td>\n",
       "      <td>0.25</td>\n",
       "      <td>0.000926</td>\n",
       "      <td>1000</td>\n",
       "      <td>1.2</td>\n",
       "      <td>193.1</td>\n",
       "      <td>9</td>\n",
       "      <td>3000</td>\n",
       "      <td>0.06</td>\n",
       "      <td>3000</td>\n",
       "      <td>0.06</td>\n",
       "    </tr>\n",
       "    <tr>\n",
       "      <th>7</th>\n",
       "      <td>200</td>\n",
       "      <td>12500000</td>\n",
       "      <td>3000000</td>\n",
       "      <td>0.25</td>\n",
       "      <td>0.000926</td>\n",
       "      <td>1000</td>\n",
       "      <td>1.2</td>\n",
       "      <td>193.1</td>\n",
       "      <td>9</td>\n",
       "      <td>3000</td>\n",
       "      <td>0.06</td>\n",
       "      <td>3000</td>\n",
       "      <td>0.06</td>\n",
       "    </tr>\n",
       "    <tr>\n",
       "      <th>8</th>\n",
       "      <td>200</td>\n",
       "      <td>12500000</td>\n",
       "      <td>3000000</td>\n",
       "      <td>0.25</td>\n",
       "      <td>0.000926</td>\n",
       "      <td>1000</td>\n",
       "      <td>1.2</td>\n",
       "      <td>193.1</td>\n",
       "      <td>9</td>\n",
       "      <td>3000</td>\n",
       "      <td>0.06</td>\n",
       "      <td>3000</td>\n",
       "      <td>0.06</td>\n",
       "    </tr>\n",
       "    <tr>\n",
       "      <th>9</th>\n",
       "      <td>200</td>\n",
       "      <td>12500000</td>\n",
       "      <td>3000000</td>\n",
       "      <td>0.25</td>\n",
       "      <td>0.000926</td>\n",
       "      <td>1000</td>\n",
       "      <td>1.2</td>\n",
       "      <td>193.1</td>\n",
       "      <td>9</td>\n",
       "      <td>3000</td>\n",
       "      <td>0.06</td>\n",
       "      <td>3000</td>\n",
       "      <td>0.06</td>\n",
       "    </tr>\n",
       "    <tr>\n",
       "      <th>10</th>\n",
       "      <td>200</td>\n",
       "      <td>12500000</td>\n",
       "      <td>3000000</td>\n",
       "      <td>0.25</td>\n",
       "      <td>0.000926</td>\n",
       "      <td>1000</td>\n",
       "      <td>1.2</td>\n",
       "      <td>193.1</td>\n",
       "      <td>9</td>\n",
       "      <td>3000</td>\n",
       "      <td>0.06</td>\n",
       "      <td>3000</td>\n",
       "      <td>0.06</td>\n",
       "    </tr>\n",
       "    <tr>\n",
       "      <th>11</th>\n",
       "      <td>200</td>\n",
       "      <td>12500000</td>\n",
       "      <td>3000000</td>\n",
       "      <td>0.25</td>\n",
       "      <td>0.000926</td>\n",
       "      <td>1000</td>\n",
       "      <td>1.2</td>\n",
       "      <td>193.1</td>\n",
       "      <td>9</td>\n",
       "      <td>3000</td>\n",
       "      <td>0.06</td>\n",
       "      <td>3000</td>\n",
       "      <td>0.06</td>\n",
       "    </tr>\n",
       "    <tr>\n",
       "      <th>12</th>\n",
       "      <td>200</td>\n",
       "      <td>12500000</td>\n",
       "      <td>3000000</td>\n",
       "      <td>0.25</td>\n",
       "      <td>0.000926</td>\n",
       "      <td>1000</td>\n",
       "      <td>1.2</td>\n",
       "      <td>193.1</td>\n",
       "      <td>9</td>\n",
       "      <td>3000</td>\n",
       "      <td>0.06</td>\n",
       "      <td>3000</td>\n",
       "      <td>0.06</td>\n",
       "    </tr>\n",
       "    <tr>\n",
       "      <th>13</th>\n",
       "      <td>200</td>\n",
       "      <td>12500000</td>\n",
       "      <td>3000000</td>\n",
       "      <td>0.25</td>\n",
       "      <td>0.000926</td>\n",
       "      <td>1000</td>\n",
       "      <td>1.2</td>\n",
       "      <td>193.1</td>\n",
       "      <td>9</td>\n",
       "      <td>3000</td>\n",
       "      <td>0.06</td>\n",
       "      <td>3000</td>\n",
       "      <td>0.06</td>\n",
       "    </tr>\n",
       "    <tr>\n",
       "      <th>14</th>\n",
       "      <td>200</td>\n",
       "      <td>12500000</td>\n",
       "      <td>3000000</td>\n",
       "      <td>0.25</td>\n",
       "      <td>0.000926</td>\n",
       "      <td>1000</td>\n",
       "      <td>1.2</td>\n",
       "      <td>193.1</td>\n",
       "      <td>9</td>\n",
       "      <td>3000</td>\n",
       "      <td>0.06</td>\n",
       "      <td>3000</td>\n",
       "      <td>0.06</td>\n",
       "    </tr>\n",
       "    <tr>\n",
       "      <th>15</th>\n",
       "      <td>200</td>\n",
       "      <td>12500000</td>\n",
       "      <td>3000000</td>\n",
       "      <td>0.25</td>\n",
       "      <td>0.000926</td>\n",
       "      <td>1000</td>\n",
       "      <td>1.2</td>\n",
       "      <td>193.1</td>\n",
       "      <td>9</td>\n",
       "      <td>3000</td>\n",
       "      <td>0.06</td>\n",
       "      <td>3000</td>\n",
       "      <td>0.06</td>\n",
       "    </tr>\n",
       "    <tr>\n",
       "      <th>16</th>\n",
       "      <td>200</td>\n",
       "      <td>12500000</td>\n",
       "      <td>3000000</td>\n",
       "      <td>0.25</td>\n",
       "      <td>0.000926</td>\n",
       "      <td>1000</td>\n",
       "      <td>1.2</td>\n",
       "      <td>193.1</td>\n",
       "      <td>9</td>\n",
       "      <td>3000</td>\n",
       "      <td>0.06</td>\n",
       "      <td>3000</td>\n",
       "      <td>0.06</td>\n",
       "    </tr>\n",
       "    <tr>\n",
       "      <th>17</th>\n",
       "      <td>200</td>\n",
       "      <td>12500000</td>\n",
       "      <td>3000000</td>\n",
       "      <td>0.25</td>\n",
       "      <td>0.000926</td>\n",
       "      <td>1000</td>\n",
       "      <td>1.2</td>\n",
       "      <td>193.1</td>\n",
       "      <td>9</td>\n",
       "      <td>3000</td>\n",
       "      <td>0.06</td>\n",
       "      <td>3000</td>\n",
       "      <td>0.06</td>\n",
       "    </tr>\n",
       "    <tr>\n",
       "      <th>18</th>\n",
       "      <td>200</td>\n",
       "      <td>12500000</td>\n",
       "      <td>3000000</td>\n",
       "      <td>0.25</td>\n",
       "      <td>0.000926</td>\n",
       "      <td>1000</td>\n",
       "      <td>1.2</td>\n",
       "      <td>193.1</td>\n",
       "      <td>9</td>\n",
       "      <td>3000</td>\n",
       "      <td>0.06</td>\n",
       "      <td>3000</td>\n",
       "      <td>0.06</td>\n",
       "    </tr>\n",
       "    <tr>\n",
       "      <th>19</th>\n",
       "      <td>200</td>\n",
       "      <td>12500000</td>\n",
       "      <td>3000000</td>\n",
       "      <td>0.25</td>\n",
       "      <td>0.000926</td>\n",
       "      <td>1000</td>\n",
       "      <td>1.2</td>\n",
       "      <td>193.1</td>\n",
       "      <td>9</td>\n",
       "      <td>3000</td>\n",
       "      <td>0.06</td>\n",
       "      <td>3000</td>\n",
       "      <td>0.06</td>\n",
       "    </tr>\n",
       "  </tbody>\n",
       "</table>\n",
       "</div>"
      ],
      "text/plain": [
       "    Количество ступеней в насосе  Давление (абсолютное) на Выходе насоса  \\\n",
       "0                            200                                12500000   \n",
       "1                            200                                12500000   \n",
       "2                            200                                12500000   \n",
       "3                            200                                12500000   \n",
       "4                            200                                12500000   \n",
       "5                            200                                12500000   \n",
       "6                            200                                12500000   \n",
       "7                            200                                12500000   \n",
       "8                            200                                12500000   \n",
       "9                            200                                12500000   \n",
       "10                           200                                12500000   \n",
       "11                           200                                12500000   \n",
       "12                           200                                12500000   \n",
       "13                           200                                12500000   \n",
       "14                           200                                12500000   \n",
       "15                           200                                12500000   \n",
       "16                           200                                12500000   \n",
       "17                           200                                12500000   \n",
       "18                           200                                12500000   \n",
       "19                           200                                12500000   \n",
       "\n",
       "    Давление (абсолютное) на ВХоде насоса  Газосодержание на ВХоде в насос  \\\n",
       "0                                 3000000                             0.25   \n",
       "1                                 3000000                             0.25   \n",
       "2                                 3000000                             0.25   \n",
       "3                                 3000000                             0.25   \n",
       "4                                 3000000                             0.25   \n",
       "5                                 3000000                             0.25   \n",
       "6                                 3000000                             0.25   \n",
       "7                                 3000000                             0.25   \n",
       "8                                 3000000                             0.25   \n",
       "9                                 3000000                             0.25   \n",
       "10                                3000000                             0.25   \n",
       "11                                3000000                             0.25   \n",
       "12                                3000000                             0.25   \n",
       "13                                3000000                             0.25   \n",
       "14                                3000000                             0.25   \n",
       "15                                3000000                             0.25   \n",
       "16                                3000000                             0.25   \n",
       "17                                3000000                             0.25   \n",
       "18                                3000000                             0.25   \n",
       "19                                3000000                             0.25   \n",
       "\n",
       "    Расход жидкости (объемный)  Плотность жидкости  \\\n",
       "0                     0.000926                1000   \n",
       "1                     0.000926                1000   \n",
       "2                     0.000926                1000   \n",
       "3                     0.000926                1000   \n",
       "4                     0.000926                1000   \n",
       "5                     0.000926                1000   \n",
       "6                     0.000926                1000   \n",
       "7                     0.000926                1000   \n",
       "8                     0.000926                1000   \n",
       "9                     0.000926                1000   \n",
       "10                    0.000926                1000   \n",
       "11                    0.000926                1000   \n",
       "12                    0.000926                1000   \n",
       "13                    0.000926                1000   \n",
       "14                    0.000926                1000   \n",
       "15                    0.000926                1000   \n",
       "16                    0.000926                1000   \n",
       "17                    0.000926                1000   \n",
       "18                    0.000926                1000   \n",
       "19                    0.000926                1000   \n",
       "\n",
       "    Плотность газа (при нормальных условиях)  Подача (ступень-А1)  \\\n",
       "0                                        1.2                193.1   \n",
       "1                                        1.2                193.1   \n",
       "2                                        1.2                193.1   \n",
       "3                                        1.2                193.1   \n",
       "4                                        1.2                193.1   \n",
       "5                                        1.2                193.1   \n",
       "6                                        1.2                193.1   \n",
       "7                                        1.2                193.1   \n",
       "8                                        1.2                193.1   \n",
       "9                                        1.2                193.1   \n",
       "10                                       1.2                193.1   \n",
       "11                                       1.2                193.1   \n",
       "12                                       1.2                193.1   \n",
       "13                                       1.2                193.1   \n",
       "14                                       1.2                193.1   \n",
       "15                                       1.2                193.1   \n",
       "16                                       1.2                193.1   \n",
       "17                                       1.2                193.1   \n",
       "18                                       1.2                193.1   \n",
       "19                                       1.2                193.1   \n",
       "\n",
       "    Напор (ступень-А1)  Частота вращения ротора (ступень-А1)  \\\n",
       "0                    9                                  3000   \n",
       "1                    9                                  3000   \n",
       "2                    9                                  3000   \n",
       "3                    9                                  3000   \n",
       "4                    9                                  3000   \n",
       "5                    9                                  3000   \n",
       "6                    9                                  3000   \n",
       "7                    9                                  3000   \n",
       "8                    9                                  3000   \n",
       "9                    9                                  3000   \n",
       "10                   9                                  3000   \n",
       "11                   9                                  3000   \n",
       "12                   9                                  3000   \n",
       "13                   9                                  3000   \n",
       "14                   9                                  3000   \n",
       "15                   9                                  3000   \n",
       "16                   9                                  3000   \n",
       "17                   9                                  3000   \n",
       "18                   9                                  3000   \n",
       "19                   9                                  3000   \n",
       "\n",
       "    Диаметр ротора (ступень-А1)  Частота вращения ротора (ступень-А2)  \\\n",
       "0                          0.06                                  3000   \n",
       "1                          0.06                                  3000   \n",
       "2                          0.06                                  3000   \n",
       "3                          0.06                                  3000   \n",
       "4                          0.06                                  3000   \n",
       "5                          0.06                                  3000   \n",
       "6                          0.06                                  3000   \n",
       "7                          0.06                                  3000   \n",
       "8                          0.06                                  3000   \n",
       "9                          0.06                                  3000   \n",
       "10                         0.06                                  3000   \n",
       "11                         0.06                                  3000   \n",
       "12                         0.06                                  3000   \n",
       "13                         0.06                                  3000   \n",
       "14                         0.06                                  3000   \n",
       "15                         0.06                                  3000   \n",
       "16                         0.06                                  3000   \n",
       "17                         0.06                                  3000   \n",
       "18                         0.06                                  3000   \n",
       "19                         0.06                                  3000   \n",
       "\n",
       "    Диаметр ротора (ступень-А2)  \n",
       "0                          0.06  \n",
       "1                          0.06  \n",
       "2                          0.06  \n",
       "3                          0.06  \n",
       "4                          0.06  \n",
       "5                          0.06  \n",
       "6                          0.06  \n",
       "7                          0.06  \n",
       "8                          0.06  \n",
       "9                          0.06  \n",
       "10                         0.06  \n",
       "11                         0.06  \n",
       "12                         0.06  \n",
       "13                         0.06  \n",
       "14                         0.06  \n",
       "15                         0.06  \n",
       "16                         0.06  \n",
       "17                         0.06  \n",
       "18                         0.06  \n",
       "19                         0.06  "
      ]
     },
     "execution_count": 2,
     "metadata": {},
     "output_type": "execute_result"
    }
   ],
   "source": [
    "df1"
   ]
  },
  {
   "cell_type": "code",
   "execution_count": 3,
   "metadata": {
    "collapsed": false
   },
   "outputs": [
    {
     "name": "stdout",
     "output_type": "stream",
     "text": [
      "20\n"
     ]
    }
   ],
   "source": [
    "#количество насосов\n",
    "count = len(df1['Количество ступеней в насосе'])\n",
    "print(count)"
   ]
  },
  {
   "cell_type": "code",
   "execution_count": 10,
   "metadata": {
    "collapsed": false
   },
   "outputs": [],
   "source": [
    "# Расчет параметров характеристики для насосовой ступени А2\n",
    "a2=[]\n",
    "b2=[]\n",
    "for i in range(count):\n",
    "    a2.append(df1['Подача (ступень-А1)'][i]*(df1['Частота вращения ротора (ступень-А2)'][i]/\n",
    "                                             df1['Частота вращения ротора (ступень-А1)'][i])*\n",
    "              (df1['Диаметр ротора (ступень-А2)'][i]/df1['Диаметр ротора (ступень-А1)'][i])**3)\n",
    "\n",
    "for i in range(count):\n",
    "    b2.append(df1['Напор (ступень-А1)'][i] * (df1['Частота вращения ротора (ступень-А2)'][i] /\n",
    "                                             df1['Частота вращения ротора (ступень-А1)'][i])**2 * \n",
    "              (df1['Диаметр ротора (ступень-А2)'][i] / df1['Диаметр ротора (ступень-А1)'][i])**2)\n",
    "    "
   ]
  },
  {
   "cell_type": "code",
   "execution_count": 107,
   "metadata": {
    "collapsed": false
   },
   "outputs": [
    {
     "name": "stdout",
     "output_type": "stream",
     "text": [
      "Введите количество №п.п.500\n"
     ]
    }
   ],
   "source": [
    "#кол-во № п.п.\n",
    "pp = int(input('Введите количество №п.п.'))\n",
    "\n",
    "AL=[]\n",
    "for i in range (count):\n",
    "    col=0\n",
    "    for j in range(pp):\n",
    "        col=col+1\n",
    "        AL.append(col)\n",
    "\n",
    "#Расход жидкости (массовый)\n",
    "AX = []\n",
    "\n",
    "for i in range (count):\n",
    "    for j in range(pp):\n",
    "        AX.append(df1['Расход жидкости (объемный)'][i] * df1['Плотность жидкости'][i])\n"
   ]
  },
  {
   "cell_type": "code",
   "execution_count": 15,
   "metadata": {
    "collapsed": false
   },
   "outputs": [],
   "source": [
    "#Расход газа (объемный), на входе в насос\n",
    "AU = []\n",
    "\n",
    "for i in range (count):\n",
    "    for j in range(pp):\n",
    "        AU.append(df1['Расход жидкости (объемный)'][i] * df1['Газосодержание на ВХоде в насос'][i] /\n",
    "                  * (1-df1['Газосодержание на ВХоде в насос'][i]))"
   ]
  },
  {
   "cell_type": "code",
   "execution_count": 18,
   "metadata": {
    "collapsed": false
   },
   "outputs": [],
   "source": [
    "#Расход газа (массовый)\n",
    "AY = []\n",
    "\n",
    "for i in range (count):\n",
    "    for j in range(pp):\n",
    "        AY.append(AU[i] * df1['Давление (абсолютное) на ВХоде насоса'][i] /100000\n",
    "                  * df1['Плотность газа (при нормальных условиях)'][i])"
   ]
  },
  {
   "cell_type": "code",
   "execution_count": 20,
   "metadata": {
    "collapsed": false
   },
   "outputs": [],
   "source": [
    "#Расход смеси ГЖС (массовый)\n",
    "AZ = []\n",
    "\n",
    "for i in range (count):\n",
    "    for j in range(pp):\n",
    "        AZ.append(AX[i] + AY[i])"
   ]
  },
  {
   "cell_type": "code",
   "execution_count": 64,
   "metadata": {
    "collapsed": false
   },
   "outputs": [],
   "source": [
    "#Расход газа (объемный), на выходе ступени\n",
    "BG = []\n",
    "#Плотность смеси ГЖС \n",
    "BB = []\n",
    "#Давление на ВХоде ступени насосной\n",
    "BI = []\n",
    "#Давление на выходе ступени насосной\n",
    "BF = []\n",
    "#Напор ступени насосной (расчетный) при плотности 1000 кг/м3\n",
    "BC=[]\n",
    "#Расход ГЖС (объемный), на выходе ступени\n",
    "BH=[]\n",
    "#Давление ступени насосной с поправкой на плотность \n",
    "BE=[]\n",
    "\n",
    "for i in range (count):\n",
    "    BF.append(df1['Давление (абсолютное) на Выходе насоса'][i])\n",
    "    for j in range(pp):\n",
    "        BG.append(AU[i+j]*df1['Давление (абсолютное) на ВХоде насоса'][i]/BF[i+j])\n",
    "        BH.append(BG[i+j]+df1['Расход жидкости (объемный)'][i])\n",
    "        BC.append(((1-((BH[i+j]*3600*24)**2)/(a2[i]**2)))**(0.5)*b2[i])\n",
    "        BB.append(AZ[i+j]/(df1['Расход жидкости (объемный)'][i]+BG[i+j]))\n",
    "        BE.append(BB[i+j] * 9.81 * BC[i+j])\n",
    "        BI.append(BF[i+j]-BE[i+j])\n",
    "        BF.append(BI[i+j])\n",
    "    del BF[-1]\n",
    "       \n",
    "       "
   ]
  },
  {
   "cell_type": "code",
   "execution_count": 69,
   "metadata": {
    "collapsed": true
   },
   "outputs": [],
   "source": [
    "#Давление (абсолютное) на входе ступени насосной\n",
    "AN = []\n",
    "\n",
    "for i in range (count):\n",
    "    for j in range(pp):\n",
    "        if df1['Давление (абсолютное) на ВХоде насоса'][i]<=BI[i+j]:\n",
    "            AN.append(BI[i+j])\n",
    "        else:\n",
    "            AN.append(df1['Давление (абсолютное) на ВХоде насоса'][i])"
   ]
  },
  {
   "cell_type": "code",
   "execution_count": 71,
   "metadata": {
    "collapsed": false
   },
   "outputs": [],
   "source": [
    "#Давление на выходе ступени насосной\n",
    "AH = []\n",
    "\n",
    "for i in range (count):\n",
    "    for j in range(pp):\n",
    "        if AN[i+j]>df1['Давление (абсолютное) на ВХоде насоса'][i]:\n",
    "            AH.append(BF[i+j])\n",
    "        else:\n",
    "            AH.append(df1['Давление (абсолютное) на ВХоде насоса'][i])"
   ]
  },
  {
   "cell_type": "code",
   "execution_count": 73,
   "metadata": {
    "collapsed": false
   },
   "outputs": [],
   "source": [
    "#Давление на выходе ступени насосной\n",
    "AE = []\n",
    "\n",
    "for i in range (count):\n",
    "    for j in range(pp):\n",
    "        if AH[i+j]>df1['Давление (абсолютное) на ВХоде насоса'][i]:\n",
    "            AE.append(1)\n",
    "        else:\n",
    "            AE.append(0)"
   ]
  },
  {
   "cell_type": "code",
   "execution_count": 79,
   "metadata": {
    "collapsed": false
   },
   "outputs": [],
   "source": [
    "#Количество работающих ступеней\n",
    "inwork = []\n",
    "\n",
    "for i in range (count):\n",
    "    summa=0\n",
    "    for j in range(pp):\n",
    "        summa=summa + AE[i+j]\n",
    "    inwork.append(summa)\n",
    "\n",
    "#Количество неработающих ступеней\n",
    "not_work=[]\n",
    "for i in range(count):\n",
    "    not_work.append(df1['Количество ступеней в насосе'][i] - inwork[i])"
   ]
  },
  {
   "cell_type": "code",
   "execution_count": 86,
   "metadata": {
    "collapsed": true
   },
   "outputs": [],
   "source": [
    "#Количество ступеней в насосе\n",
    "AF=[]\n",
    "for i in range (count):\n",
    "    for j in range(pp):\n",
    "        AF.append(df1['Количество ступеней в насосе'][i])"
   ]
  },
  {
   "cell_type": "code",
   "execution_count": 90,
   "metadata": {
    "collapsed": true
   },
   "outputs": [],
   "source": [
    "#Давление (абсолютное) на выходе насоса\n",
    "AG=[]\n",
    "for i in range (count):\n",
    "    for j in range(pp):\n",
    "        AG.append(df1['Давление (абсолютное) на Выходе насоса'][i])"
   ]
  },
  {
   "cell_type": "code",
   "execution_count": 104,
   "metadata": {
    "collapsed": true
   },
   "outputs": [],
   "source": [
    "#Давление на выходе ступени насосной\n",
    "AI=[]\n",
    "for i in range (count):\n",
    "    for j in range(pp):\n",
    "        AI.append(AH[i+j]/1000000)"
   ]
  },
  {
   "cell_type": "code",
   "execution_count": 103,
   "metadata": {
    "collapsed": false
   },
   "outputs": [],
   "source": [
    "#Номер ступени, при кавитации\n",
    "AJ=[]\n",
    "AK=[]\n",
    "j=0\n",
    "\n",
    "for i in range (count):\n",
    "    AK.append(AF[i+j])\n",
    "    for j in range(pp):\n",
    "        AK.append(AK[-1]-1)\n",
    "        if AK[i+j]>0:\n",
    "            AJ.append(AK[i+j])\n",
    "        else:\n",
    "            AJ.append(1)\n",
    "    del AK[-1]"
   ]
  },
  {
   "cell_type": "code",
   "execution_count": 110,
   "metadata": {
    "collapsed": true
   },
   "outputs": [],
   "source": [
    "#Давление (абсолютное) на входе насоса\n",
    "AM=[]\n",
    "for i in range (count):\n",
    "    for j in range(pp):\n",
    "        AM.append(df1['Давление (абсолютное) на ВХоде насоса'][i])"
   ]
  },
  {
   "cell_type": "code",
   "execution_count": 115,
   "metadata": {
    "collapsed": true
   },
   "outputs": [],
   "source": [
    "#Газосодержание на входе в насос\n",
    "AO=[]\n",
    "for i in range (count):\n",
    "    for j in range(pp):\n",
    "        AO.append(df1['Газосодержание на ВХоде в насос'][i])"
   ]
  },
  {
   "cell_type": "code",
   "execution_count": 118,
   "metadata": {
    "collapsed": true
   },
   "outputs": [],
   "source": [
    "#Расход газа (объемный), на входе в ступень\n",
    "\n",
    "AV=[]\n",
    "\n",
    "for i in range (count):\n",
    "    for j in range(pp):\n",
    "        AV.append(AU[i+j]*AM[i+j]/BI[i+j])"
   ]
  },
  {
   "cell_type": "code",
   "execution_count": 120,
   "metadata": {
    "collapsed": true
   },
   "outputs": [],
   "source": [
    "#Расход жидкости (объемный)\n",
    "\n",
    "AR=[]\n",
    "\n",
    "for i in range (count):\n",
    "    for j in range(pp):\n",
    "        AR.append(df1['Расход жидкости (объемный)'][i])"
   ]
  },
  {
   "cell_type": "code",
   "execution_count": 121,
   "metadata": {
    "collapsed": false
   },
   "outputs": [],
   "source": [
    "#Газосодержание на входе ступени\n",
    "AQ=[]\n",
    "\n",
    "for i in range (count):\n",
    "    for j in range(pp):\n",
    "        AQ.append(AV[i+j]/(AV[i+j]+AR[i+j]))"
   ]
  },
  {
   "cell_type": "code",
   "execution_count": 126,
   "metadata": {
    "collapsed": true
   },
   "outputs": [],
   "source": [
    "#Газосодержание на входе ступени (при кавитации)\n",
    "AP=[]\n",
    "\n",
    "for i in range (count):\n",
    "    for j in range(pp):\n",
    "        if AQ[i+j]<=AO[i+j]:\n",
    "            AP.append(AQ[i+j])\n",
    "        else:\n",
    "            AP.append(AO[i+j])"
   ]
  },
  {
   "cell_type": "code",
   "execution_count": 133,
   "metadata": {
    "collapsed": true
   },
   "outputs": [],
   "source": [
    "#Плотность жидкости\n",
    "\n",
    "AS=[]\n",
    "\n",
    "for i in range (count):\n",
    "    for j in range(pp):\n",
    "        AS.append(df1['Плотность жидкости'][i])"
   ]
  },
  {
   "cell_type": "code",
   "execution_count": 137,
   "metadata": {
    "collapsed": true
   },
   "outputs": [],
   "source": [
    "#Плотность газа (при нормальных условиях)\n",
    "\n",
    "AT=[]\n",
    "\n",
    "for i in range (count):\n",
    "    for j in range(pp):\n",
    "        AT.append(df1['Плотность газа (при нормальных условиях)'][i])"
   ]
  },
  {
   "cell_type": "code",
   "execution_count": 145,
   "metadata": {
    "collapsed": true
   },
   "outputs": [],
   "source": [
    "#Расход смеси ГЖС (объемный), на входе в ступень\n",
    "\n",
    "AW=[]\n",
    "\n",
    "for i in range (count):\n",
    "    for j in range(pp):\n",
    "        AW.append(AR[i+j]+AV[i+j])"
   ]
  },
  {
   "cell_type": "code",
   "execution_count": 155,
   "metadata": {
    "collapsed": true
   },
   "outputs": [],
   "source": [
    "#Плотность смеси ГЖС \n",
    "\n",
    "BB=[]\n",
    "\n",
    "for i in range (count):\n",
    "    for j in range(pp):\n",
    "        BB.append(AZ[i+j]/(AR[i+j]+BG[i+j]))"
   ]
  },
  {
   "cell_type": "code",
   "execution_count": 156,
   "metadata": {
    "collapsed": true
   },
   "outputs": [],
   "source": [
    "#Плотность смеси ГЖС (при кавитации)\n",
    "BA=[]\n",
    "\n",
    "for i in range (count):\n",
    "    for j in range(pp):\n",
    "        if AN[i+j]>AM[i+j]:\n",
    "            BA.append(BB[i+j])\n",
    "        else:\n",
    "            BA.append(AZ[i+j]/(AR[i+j]+AU[i+j]))"
   ]
  },
  {
   "cell_type": "code",
   "execution_count": 164,
   "metadata": {
    "collapsed": true
   },
   "outputs": [],
   "source": [
    "#Поправка по плотности \n",
    "\n",
    "BD=[]\n",
    "\n",
    "for i in range (count):\n",
    "    for j in range(pp):\n",
    "        BD.append(BB[i+j]/1000)"
   ]
  },
  {
   "cell_type": "code",
   "execution_count": 198,
   "metadata": {
    "collapsed": false
   },
   "outputs": [],
   "source": [
    "import math\n",
    "#Мощность на сжатие газа в ступени\n",
    "BJ=[]\n",
    "\n",
    "for i in range (count):\n",
    "    for j in range(pp):\n",
    "        BJ.append(AN[i+j]*AV[i+j]*math.log(AH[i+j]/AN[i+j]))"
   ]
  },
  {
   "cell_type": "code",
   "execution_count": 207,
   "metadata": {
    "collapsed": true
   },
   "outputs": [],
   "source": [
    "#Мощность на перекачку жидкости в ступени\n",
    "BK=[]\n",
    "\n",
    "for i in range (count):\n",
    "    for j in range(pp):\n",
    "        BK.append((AH[i+j]-AN[i+j])*AR[i+j])"
   ]
  },
  {
   "cell_type": "code",
   "execution_count": 212,
   "metadata": {
    "collapsed": true
   },
   "outputs": [],
   "source": [
    "#Мощность на перекачку ГЖС в ступени\n",
    "BL=[]\n",
    "\n",
    "for i in range (count):\n",
    "    for j in range(pp):\n",
    "        BL.append(BJ[i+j]+BK[i+j])"
   ]
  },
  {
   "cell_type": "code",
   "execution_count": 213,
   "metadata": {
    "collapsed": false
   },
   "outputs": [],
   "source": [
    "#Запись данных\n",
    "Data={'Количество работающих ступеней, шт':AE, 'Количество ступеней в насосе':AF, \n",
    "      'Давление (абсолютное) на выходе насоса':AG, 'Давление на выходе ступени насосной':AI,\n",
    "     'Давление на выходе ступени насосной':AH, 'Номер ступени, при кавитации':AJ,\n",
    "     'Номер ступени, при кавитации':AK, '№ п.п.':AL,\n",
    "     'Давление (абсолютное) на входе насоса':AM, 'Давление (абсолютное) на входе ступени насосной':AN,\n",
    "     'Газосодержание на входе в насос':AO, 'Газосодержание на входе ступени (при кавитации)': AP,\n",
    "     'Газосодержание на входе ступени':AQ, 'Расход жидкости (объемный)':AR,\n",
    "     'Плотность жидкости':AS, 'Плотность газа (при нормальных условиях)':AT,\n",
    "     'Расход газа (объемный), на входе в насос':AU, 'Расход газа (объемный), на входе в ступень':AV,\n",
    "     'Расход смеси ГЖС (объемный), на входе в ступень':AW, 'Расход жидкости (массовый)':AX,\n",
    "     'Расход газа (массовый)':AY, 'Расход смеси ГЖС (массовый)':AZ,\n",
    "     'Плотность смеси ГЖС (при кавитации)':BA, 'Плотность смеси ГЖС':BB,\n",
    "     'Напор ступени насосной (расчетный) при плотности 1000 кг/м3':BC, 'Поправка по плотности':BD,\n",
    "     'Давление ступени насосной с поправкой на плотность':BE, 'Давление на выходе ступени насосной':BF,\n",
    "     'Расход газа (объемный), на выходе ступени':BG, 'Расход ГЖС (объемный), на выходе ступени':BH,\n",
    "     'Давление на ВХоде ступени насосной':BI, 'Мощность на сжатие газа в ступени':BJ,\n",
    "     'Мощность на перекачку жидкости в ступени':BK, 'Мощность на перекачку ГЖС в ступени':BL}\n",
    "my_data = pd.DataFrame(Data)\n",
    "\n"
   ]
  },
  {
   "cell_type": "code",
   "execution_count": 236,
   "metadata": {
    "collapsed": false
   },
   "outputs": [
    {
     "data": {
      "text/plain": [
       "<matplotlib.text.Text at 0x2838051eb38>"
      ]
     },
     "execution_count": 236,
     "metadata": {},
     "output_type": "execute_result"
    },
    {
     "data": {
      "image/png": "[encoded data removed]",
      "text/plain": [
       "<matplotlib.figure.Figure at 0x283804ccb38>"
      ]
     },
     "metadata": {},
     "output_type": "display_data"
    }
   ],
   "source": [
    "from pylab import *\n",
    "import matplotlib.pyplot as plt\n",
    "%matplotlib inline\n",
    "matplotlib.rc('font', family='Verdana')\n",
    "\n",
    "x = my_data['Номер ступени, при кавитации'][0:277]\n",
    "y = my_data['Давление на выходе ступени насосной'][0:277]\n",
    "#figure()\n",
    "plot(x, y, 'r')\n",
    "xlabel('Порядковый номер насосной ступени -  i')\n",
    "ylabel('Давление  на  выходе  насосной  ступени  Pi,  МПа')\n",
    "#plt.plot()\n"
   ]
  },
  {
   "cell_type": "code",
   "execution_count": 238,
   "metadata": {
    "collapsed": false
   },
   "outputs": [
    {
     "data": {
      "text/plain": [
       "<matplotlib.text.Text at 0x283fd9f3fd0>"
      ]
     },
     "execution_count": 238,
     "metadata": {},
     "output_type": "execute_result"
    },
    {
     "data": {
      "image/png": "[encoded data removed]",
      "text/plain": [
       "<matplotlib.figure.Figure at 0x2838050f710>"
      ]
     },
     "metadata": {},
     "output_type": "display_data"
    }
   ],
   "source": [
    "x = my_data['Номер ступени, при кавитации'][0:277]\n",
    "y = my_data['Газосодержание на входе ступени (при кавитации)'][0:277]\n",
    "#figure()\n",
    "plot(x, y, 'r')\n",
    "xlabel('Порядковый номер насосной ступени -  i')\n",
    "ylabel('Газосодержание  на  входе  насосной  ступени  βi')\n",
    "#plt.plot()\n"
   ]
  },
  {
   "cell_type": "code",
   "execution_count": 239,
   "metadata": {
    "collapsed": false
   },
   "outputs": [
    {
     "data": {
      "text/plain": [
       "<matplotlib.text.Text at 0x283fe6e0f60>"
      ]
     },
     "execution_count": 239,
     "metadata": {},
     "output_type": "execute_result"
    },
    {
     "data": {
      "image/png": "[encoded data removed]",
      "text/plain": [
       "<matplotlib.figure.Figure at 0x283ff669390>"
      ]
     },
     "metadata": {},
     "output_type": "display_data"
    }
   ],
   "source": [
    "x = my_data['Номер ступени, при кавитации'][0:277]\n",
    "y = my_data['Расход смеси ГЖС (объемный), на входе в ступень'][0:277]\n",
    "#figure()\n",
    "plot(x, y, 'r')\n",
    "xlabel('Порядковый номер насосной ступени -  i')\n",
    "ylabel('Расход ГЖС  на  входе  насосной  ступени  Qi, м3/с')\n",
    "#plt.plot()\n"
   ]
  },
  {
   "cell_type": "code",
   "execution_count": 240,
   "metadata": {
    "collapsed": false
   },
   "outputs": [
    {
     "data": {
      "text/plain": [
       "<matplotlib.text.Text at 0x283fd5e1550>"
      ]
     },
     "execution_count": 240,
     "metadata": {},
     "output_type": "execute_result"
    },
    {
     "data": {
      "image/png": "[encoded data removed]",
      "text/plain": [
       "<matplotlib.figure.Figure at 0x283805935f8>"
      ]
     },
     "metadata": {},
     "output_type": "display_data"
    }
   ],
   "source": [
    "x = my_data['Номер ступени, при кавитации'][0:277]\n",
    "y = my_data['Мощность на сжатие газа в ступени'][0:277]\n",
    "#figure()\n",
    "plot(x, y, 'r')\n",
    "xlabel('Порядковый номер насосной ступени -  i')\n",
    "ylabel('Мощность на сжатие газа в  насосной  ступени  Nгi, Вт')\n",
    "#plt.plot()\n"
   ]
  },
  {
   "cell_type": "code",
   "execution_count": 241,
   "metadata": {
    "collapsed": false
   },
   "outputs": [
    {
     "data": {
      "text/plain": [
       "<matplotlib.text.Text at 0x283fe7156a0>"
      ]
     },
     "execution_count": 241,
     "metadata": {},
     "output_type": "execute_result"
    },
    {
     "data": {
      "image/png": "[encoded data removed]",
      "text/plain": [
       "<matplotlib.figure.Figure at 0x283800322b0>"
      ]
     },
     "metadata": {},
     "output_type": "display_data"
    }
   ],
   "source": [
    "x = my_data['Номер ступени, при кавитации'][0:277]\n",
    "y = my_data['Мощность на перекачку жидкости в ступени'][0:277]\n",
    "#figure()\n",
    "plot(x, y, 'r')\n",
    "xlabel('Порядковый номер насосной ступени -  i')\n",
    "ylabel('Мощность на перекачку жидкости в  насосной  ступени  Nжi, Вт')\n",
    "#plt.plot()\n"
   ]
  },
  {
   "cell_type": "code",
   "execution_count": 242,
   "metadata": {
    "collapsed": false
   },
   "outputs": [
    {
     "data": {
      "text/plain": [
       "<matplotlib.text.Text at 0x2838007bcc0>"
      ]
     },
     "execution_count": 242,
     "metadata": {},
     "output_type": "execute_result"
    },
    {
     "data": {
      "image/png": "[encoded data removed]",
      "text/plain": [
       "<matplotlib.figure.Figure at 0x283800321d0>"
      ]
     },
     "metadata": {},
     "output_type": "display_data"
    }
   ],
   "source": [
    "x = my_data['Номер ступени, при кавитации'][0:277]\n",
    "y = my_data['Мощность на перекачку ГЖС в ступени'][0:277]\n",
    "#figure()\n",
    "plot(x, y, 'r')\n",
    "xlabel('Порядковый номер насосной ступени -  i')\n",
    "ylabel('Мощность на перекачку ГЖС в  насосной  ступени  Ni, Вт')\n",
    "#plt.plot()"
   ]
  }
 ],
 "metadata": {
  "kernelspec": {
   "display_name": "Python 3",
   "language": "python",
   "name": "python3"
  },
  "language_info": {
   "codemirror_mode": {
    "name": "ipython",
    "version": 3
   },
   "file_extension": ".py",
   "mimetype": "text/x-python",
   "name": "python",
   "nbconvert_exporter": "python",
   "pygments_lexer": "ipython3",
   "version": "3.5.1"
  }
 },
 "nbformat": 4,
 "nbformat_minor": 2
}
